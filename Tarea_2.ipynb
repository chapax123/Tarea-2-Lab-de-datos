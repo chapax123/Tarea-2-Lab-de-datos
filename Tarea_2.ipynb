{
 "cells": [
  {
   "cell_type": "markdown",
   "metadata": {},
   "source": [
    "# Tarea 2\n",
    "### Integrantes:\n",
    "- Pablo Araya\n",
    "- Benjamin Barrientos\n",
    "- Sebastian Lopez"
   ]
  },
  {
   "cell_type": "markdown",
   "metadata": {},
   "source": [
    "# P1. Carga y transformación de datos\n",
    "Al abordar un problema de clasificacióon de imágenes con redes neuronales profundas, es importante optimizar\n",
    "el proceso de carga de datos. Al tratarse de im´agenes, es de esperar que no todas las muestras puedan ser\n",
    "almacenadas en memoria de manera simultanea, por lo que es necesario construir un generador. El objetivo de la\n",
    "sección es construir un generador de muestras eficiente, que minimice el tiempo de carga de datos y optimice el\n",
    "uso de memoria. \n",
    "\n",
    "El conjunto de datos a utilizar esta disponible en este link. En la Figura 1 se observan algunas muestras\n",
    "de cada clase. La carpeta train consta de alrededor de 5.000 im´agenes y la carpeta test, cerca de 600. Al ser\n",
    "un conjunto de datos peque˜no, se emplean t´ecnicas de aumentaci´on de datos que ser´an detalladas a continuaci´on."
   ]
  },
  {
   "cell_type": "code",
   "execution_count": null,
   "metadata": {},
   "outputs": [],
   "source": []
  },
  {
   "cell_type": "code",
   "execution_count": 1,
   "metadata": {},
   "outputs": [
    {
     "data": {
      "text/plain": [
       "<torch._C.Generator at 0x22efddc47f0>"
      ]
     },
     "execution_count": 1,
     "metadata": {},
     "output_type": "execute_result"
    }
   ],
   "source": [
    "import torch\n",
    "\n",
    "# Se asigna un valor de reproductibilidad\n",
    "torch.manual_seed(6202)"
   ]
  },
  {
   "cell_type": "code",
   "execution_count": null,
   "metadata": {},
   "outputs": [],
   "source": []
  },
  {
   "cell_type": "code",
   "execution_count": 2,
   "metadata": {},
   "outputs": [],
   "source": [
    "import pandas as pd\n",
    "import numpy as np\n",
    "from torchvision import transforms\n",
    "import torchvision.datasets as datasets\n",
    "import PIL\n",
    "import matplotlib.pyplot as plt"
   ]
  },
  {
   "cell_type": "code",
   "execution_count": 167,
   "metadata": {},
   "outputs": [],
   "source": [
    "def loader(path):\n",
    "    Img = PIL.Image.open(path)\n",
    "    if len(Img.split()) == 1:\n",
    "        im = PIL.Image.merge(\"RGB\", (Img.split()[0], Img.split()[0], Img.split()[0]))\n",
    "        return im\n",
    "    else:\n",
    "        return Img\n",
    "\n",
    "transformaciones = transforms.Compose([transforms.Resize([224,224]),\n",
    "                                       transforms.ColorJitter(brightness=(0,1)),\n",
    "                                       transforms.RandomHorizontalFlip(p=0.5),\n",
    "                                       transforms.RandomRotation(degrees=(-20,20)),\n",
    "                                       transforms.Lambda(lambda img: img.point(lambda i: i*np.random.uniform(1.2,1.5)))])\n",
    "\n",
    "data_train = datasets.DatasetFolder(root='data/chest_xray/train',loader = loader,extensions = ('jpeg'),\n",
    "                                    transform=transformaciones)\n",
    "data_test = datasets.DatasetFolder(root='data/chest_xray/test',loader = loader,extensions = ('jpeg'),\n",
    "                                   transform=transformaciones)"
   ]
  },
  {
   "cell_type": "markdown",
   "metadata": {},
   "source": [
    "parte 2"
   ]
  },
  {
   "cell_type": "code",
   "execution_count": null,
   "metadata": {},
   "outputs": [],
   "source": [
    "num_1_train = 0\n",
    "num_0_train = 0\n",
    "for x in data_train:\n",
    "    if x[1] == 0:\n",
    "        num_0_train += 1\n",
    "    else:\n",
    "        num_1_train += 1"
   ]
  },
  {
   "cell_type": "code",
   "execution_count": 22,
   "metadata": {},
   "outputs": [
    {
     "data": {
      "text/plain": [
       "(3883, 1349)"
      ]
     },
     "execution_count": 22,
     "metadata": {},
     "output_type": "execute_result"
    }
   ],
   "source": [
    "num_1_train,num_0_train"
   ]
  },
  {
   "cell_type": "code",
   "execution_count": 10,
   "metadata": {},
   "outputs": [],
   "source": [
    "num_1_test = 0\n",
    "num_0_test = 0\n",
    "for x in data_test:\n",
    "    if x[1] == 0:\n",
    "        num_0_test += 1\n",
    "    else:\n",
    "        num_1_test += 1"
   ]
  },
  {
   "cell_type": "code",
   "execution_count": 12,
   "metadata": {},
   "outputs": [
    {
     "data": {
      "text/plain": [
       "(390, 234)"
      ]
     },
     "execution_count": 12,
     "metadata": {},
     "output_type": "execute_result"
    }
   ],
   "source": [
    "num_1_test,num_0_test"
   ]
  },
  {
   "cell_type": "markdown",
   "metadata": {},
   "source": [
    "parte 3"
   ]
  },
  {
   "cell_type": "code",
   "execution_count": 168,
   "metadata": {},
   "outputs": [],
   "source": [
    "from sklearn.model_selection import train_test_split\n",
    "\n",
    "X_tr = np.array([np.asarray(obs[0]) for obs in data_train])\n",
    "y_tr = np.array([obs[1] for obs in data_train])\n",
    "\n",
    "x_train, x_valid, y_train, y_valid = train_test_split(X_tr, y_tr, test_size = .2)"
   ]
  },
  {
   "cell_type": "code",
   "execution_count": null,
   "metadata": {},
   "outputs": [],
   "source": [
    "class ReplicarMuestreoDePrueba(torch.utils.data.Sampler):\n",
    "    def __init__(self, etiquetas_prueba, indices_val, etiquetas_val):\n",
    "        self.etiquetas_prueba = etiquetas_prueba\n",
    "        self.indices_val = indices_val\n",
    "        self.etiquetas_val = etiquetas_val\n",
    "        \n",
    "    def __iter__(self):\n",
    "        p_test = np.sum(self.etiquetas_prueba)/len(self.etiquetas_prueba) # prob de ser 1, en testeo\n",
    "        if p_test < 0.5:\n",
    "            p_vect = self.etiquetas_val \n",
    "        else:\n",
    "            p_vect = 1 - self.etiquetas_val\n",
    "        p_vect = p_vect/np.sum(p_vect) # debe sumar 1\n",
    "        sampleo = self.indices_val\n",
    "        sampleo_eti = self.etiquetas_val\n",
    "        p_sampleo = np.sum(sampleo_eti)/len(sampleo_eti)\n",
    "        while abs(p_sampleo - p_test) > 1e-3:\n",
    "            index = np.random.choice(self.indices_val, size=1, p=p_vect)\n",
    "            sampleo = np.append(sampleo, index)\n",
    "            sampleo_eti = np.append(sampleo_eti, self.etiquetas_val[index])\n",
    "            p_sampleo = np.sum(sampleo_eti)/len(sampleo_eti)\n",
    "        return sampleo\n"
   ]
  },
  {
   "cell_type": "markdown",
   "metadata": {},
   "source": [
    "parte 4"
   ]
  },
  {
   "cell_type": "code",
   "execution_count": null,
   "metadata": {},
   "outputs": [],
   "source": [
    "from torch.utils.data import DataLoader"
   ]
  },
  {
   "cell_type": "code",
   "execution_count": null,
   "metadata": {},
   "outputs": [],
   "source": []
  }
 ],
 "metadata": {
  "kernelspec": {
   "display_name": "Python 3",
   "language": "python",
   "name": "python3"
  },
  "language_info": {
   "codemirror_mode": {
    "name": "ipython",
    "version": 3
   },
   "file_extension": ".py",
   "mimetype": "text/x-python",
   "name": "python",
   "nbconvert_exporter": "python",
   "pygments_lexer": "ipython3",
   "version": "3.7.6"
  }
 },
 "nbformat": 4,
 "nbformat_minor": 4
}
